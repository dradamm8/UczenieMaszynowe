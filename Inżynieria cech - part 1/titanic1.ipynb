{
 "cells": [
  {
   "cell_type": "markdown",
   "id": "40d2b663-afd8-4947-b72c-8e282ae13eac",
   "metadata": {},
   "source": [
    "# Import wymaganych pakietów"
   ]
  },
  {
   "cell_type": "code",
   "execution_count": 1,
   "id": "3139c250-7cf4-4731-a656-a1a14c604e61",
   "metadata": {
    "ExecuteTime": {
     "end_time": "2025-03-31T10:34:11.578462Z",
     "start_time": "2025-03-31T10:34:11.261757Z"
    }
   },
   "outputs": [],
   "source": [
    "import numpy as np\n",
    "import pandas as pd"
   ]
  },
  {
   "cell_type": "markdown",
   "id": "a4ed5efd-6a12-4da6-babe-e513aae9e722",
   "metadata": {},
   "source": [
    "# Wczytanie pliku"
   ]
  },
  {
   "cell_type": "code",
   "execution_count": 2,
   "id": "4948febe-fdff-4225-9e72-90bfa136083f",
   "metadata": {
    "ExecuteTime": {
     "end_time": "2025-03-31T10:37:58.833830Z",
     "start_time": "2025-03-31T10:37:58.776174Z"
    }
   },
   "outputs": [
    {
     "data": {
      "text/html": [
       "<div>\n",
       "<style scoped>\n",
       "    .dataframe tbody tr th:only-of-type {\n",
       "        vertical-align: middle;\n",
       "    }\n",
       "\n",
       "    .dataframe tbody tr th {\n",
       "        vertical-align: top;\n",
       "    }\n",
       "\n",
       "    .dataframe thead th {\n",
       "        text-align: right;\n",
       "    }\n",
       "</style>\n",
       "<table border=\"1\" class=\"dataframe\">\n",
       "  <thead>\n",
       "    <tr style=\"text-align: right;\">\n",
       "      <th></th>\n",
       "      <th>pclass</th>\n",
       "      <th>survived</th>\n",
       "      <th>name</th>\n",
       "      <th>sex</th>\n",
       "      <th>age</th>\n",
       "      <th>sibsp</th>\n",
       "      <th>parch</th>\n",
       "      <th>ticket</th>\n",
       "      <th>fare</th>\n",
       "      <th>cabin</th>\n",
       "      <th>embarked</th>\n",
       "      <th>boat</th>\n",
       "      <th>body</th>\n",
       "      <th>home.dest</th>\n",
       "    </tr>\n",
       "  </thead>\n",
       "  <tbody>\n",
       "    <tr>\n",
       "      <th>0</th>\n",
       "      <td>1</td>\n",
       "      <td>1</td>\n",
       "      <td>Allen, Miss. Elisabeth Walton</td>\n",
       "      <td>female</td>\n",
       "      <td>29.0000</td>\n",
       "      <td>0</td>\n",
       "      <td>0</td>\n",
       "      <td>24160</td>\n",
       "      <td>211.3375</td>\n",
       "      <td>B5</td>\n",
       "      <td>S</td>\n",
       "      <td>2</td>\n",
       "      <td>NaN</td>\n",
       "      <td>St Louis, MO</td>\n",
       "    </tr>\n",
       "    <tr>\n",
       "      <th>1</th>\n",
       "      <td>1</td>\n",
       "      <td>1</td>\n",
       "      <td>Allison, Master. Hudson Trevor</td>\n",
       "      <td>male</td>\n",
       "      <td>0.9167</td>\n",
       "      <td>1</td>\n",
       "      <td>2</td>\n",
       "      <td>113781</td>\n",
       "      <td>151.5500</td>\n",
       "      <td>C22 C26</td>\n",
       "      <td>S</td>\n",
       "      <td>11</td>\n",
       "      <td>NaN</td>\n",
       "      <td>Montreal, PQ / Chesterville, ON</td>\n",
       "    </tr>\n",
       "    <tr>\n",
       "      <th>2</th>\n",
       "      <td>1</td>\n",
       "      <td>0</td>\n",
       "      <td>Allison, Miss. Helen Loraine</td>\n",
       "      <td>female</td>\n",
       "      <td>2.0000</td>\n",
       "      <td>1</td>\n",
       "      <td>2</td>\n",
       "      <td>113781</td>\n",
       "      <td>151.5500</td>\n",
       "      <td>C22 C26</td>\n",
       "      <td>S</td>\n",
       "      <td>NaN</td>\n",
       "      <td>NaN</td>\n",
       "      <td>Montreal, PQ / Chesterville, ON</td>\n",
       "    </tr>\n",
       "    <tr>\n",
       "      <th>3</th>\n",
       "      <td>1</td>\n",
       "      <td>0</td>\n",
       "      <td>Allison, Mr. Hudson Joshua Creighton</td>\n",
       "      <td>male</td>\n",
       "      <td>30.0000</td>\n",
       "      <td>1</td>\n",
       "      <td>2</td>\n",
       "      <td>113781</td>\n",
       "      <td>151.5500</td>\n",
       "      <td>C22 C26</td>\n",
       "      <td>S</td>\n",
       "      <td>NaN</td>\n",
       "      <td>135.0</td>\n",
       "      <td>Montreal, PQ / Chesterville, ON</td>\n",
       "    </tr>\n",
       "    <tr>\n",
       "      <th>4</th>\n",
       "      <td>1</td>\n",
       "      <td>0</td>\n",
       "      <td>Allison, Mrs. Hudson J C (Bessie Waldo Daniels)</td>\n",
       "      <td>female</td>\n",
       "      <td>25.0000</td>\n",
       "      <td>1</td>\n",
       "      <td>2</td>\n",
       "      <td>113781</td>\n",
       "      <td>151.5500</td>\n",
       "      <td>C22 C26</td>\n",
       "      <td>S</td>\n",
       "      <td>NaN</td>\n",
       "      <td>NaN</td>\n",
       "      <td>Montreal, PQ / Chesterville, ON</td>\n",
       "    </tr>\n",
       "    <tr>\n",
       "      <th>5</th>\n",
       "      <td>1</td>\n",
       "      <td>1</td>\n",
       "      <td>Anderson, Mr. Harry</td>\n",
       "      <td>male</td>\n",
       "      <td>48.0000</td>\n",
       "      <td>0</td>\n",
       "      <td>0</td>\n",
       "      <td>19952</td>\n",
       "      <td>26.5500</td>\n",
       "      <td>E12</td>\n",
       "      <td>S</td>\n",
       "      <td>3</td>\n",
       "      <td>NaN</td>\n",
       "      <td>New York, NY</td>\n",
       "    </tr>\n",
       "    <tr>\n",
       "      <th>6</th>\n",
       "      <td>1</td>\n",
       "      <td>1</td>\n",
       "      <td>Andrews, Miss. Kornelia Theodosia</td>\n",
       "      <td>female</td>\n",
       "      <td>63.0000</td>\n",
       "      <td>1</td>\n",
       "      <td>0</td>\n",
       "      <td>13502</td>\n",
       "      <td>77.9583</td>\n",
       "      <td>D7</td>\n",
       "      <td>S</td>\n",
       "      <td>10</td>\n",
       "      <td>NaN</td>\n",
       "      <td>Hudson, NY</td>\n",
       "    </tr>\n",
       "    <tr>\n",
       "      <th>7</th>\n",
       "      <td>1</td>\n",
       "      <td>0</td>\n",
       "      <td>Andrews, Mr. Thomas Jr</td>\n",
       "      <td>male</td>\n",
       "      <td>39.0000</td>\n",
       "      <td>0</td>\n",
       "      <td>0</td>\n",
       "      <td>112050</td>\n",
       "      <td>0.0000</td>\n",
       "      <td>A36</td>\n",
       "      <td>S</td>\n",
       "      <td>NaN</td>\n",
       "      <td>NaN</td>\n",
       "      <td>Belfast, NI</td>\n",
       "    </tr>\n",
       "    <tr>\n",
       "      <th>8</th>\n",
       "      <td>1</td>\n",
       "      <td>1</td>\n",
       "      <td>Appleton, Mrs. Edward Dale (Charlotte Lamson)</td>\n",
       "      <td>female</td>\n",
       "      <td>53.0000</td>\n",
       "      <td>2</td>\n",
       "      <td>0</td>\n",
       "      <td>11769</td>\n",
       "      <td>51.4792</td>\n",
       "      <td>C101</td>\n",
       "      <td>S</td>\n",
       "      <td>D</td>\n",
       "      <td>NaN</td>\n",
       "      <td>Bayside, Queens, NY</td>\n",
       "    </tr>\n",
       "    <tr>\n",
       "      <th>9</th>\n",
       "      <td>1</td>\n",
       "      <td>0</td>\n",
       "      <td>Artagaveytia, Mr. Ramon</td>\n",
       "      <td>male</td>\n",
       "      <td>71.0000</td>\n",
       "      <td>0</td>\n",
       "      <td>0</td>\n",
       "      <td>PC 17609</td>\n",
       "      <td>49.5042</td>\n",
       "      <td>NaN</td>\n",
       "      <td>C</td>\n",
       "      <td>NaN</td>\n",
       "      <td>22.0</td>\n",
       "      <td>Montevideo, Uruguay</td>\n",
       "    </tr>\n",
       "    <tr>\n",
       "      <th>10</th>\n",
       "      <td>1</td>\n",
       "      <td>0</td>\n",
       "      <td>Astor, Col. John Jacob</td>\n",
       "      <td>male</td>\n",
       "      <td>47.0000</td>\n",
       "      <td>1</td>\n",
       "      <td>0</td>\n",
       "      <td>PC 17757</td>\n",
       "      <td>227.5250</td>\n",
       "      <td>C62 C64</td>\n",
       "      <td>C</td>\n",
       "      <td>NaN</td>\n",
       "      <td>124.0</td>\n",
       "      <td>New York, NY</td>\n",
       "    </tr>\n",
       "    <tr>\n",
       "      <th>11</th>\n",
       "      <td>1</td>\n",
       "      <td>1</td>\n",
       "      <td>Astor, Mrs. John Jacob (Madeleine Talmadge Force)</td>\n",
       "      <td>female</td>\n",
       "      <td>18.0000</td>\n",
       "      <td>1</td>\n",
       "      <td>0</td>\n",
       "      <td>PC 17757</td>\n",
       "      <td>227.5250</td>\n",
       "      <td>C62 C64</td>\n",
       "      <td>C</td>\n",
       "      <td>4</td>\n",
       "      <td>NaN</td>\n",
       "      <td>New York, NY</td>\n",
       "    </tr>\n",
       "    <tr>\n",
       "      <th>12</th>\n",
       "      <td>1</td>\n",
       "      <td>1</td>\n",
       "      <td>Aubart, Mme. Leontine Pauline</td>\n",
       "      <td>female</td>\n",
       "      <td>24.0000</td>\n",
       "      <td>0</td>\n",
       "      <td>0</td>\n",
       "      <td>PC 17477</td>\n",
       "      <td>69.3000</td>\n",
       "      <td>B35</td>\n",
       "      <td>C</td>\n",
       "      <td>9</td>\n",
       "      <td>NaN</td>\n",
       "      <td>Paris, France</td>\n",
       "    </tr>\n",
       "    <tr>\n",
       "      <th>13</th>\n",
       "      <td>1</td>\n",
       "      <td>1</td>\n",
       "      <td>Barber, Miss. Ellen 'Nellie'</td>\n",
       "      <td>female</td>\n",
       "      <td>26.0000</td>\n",
       "      <td>0</td>\n",
       "      <td>0</td>\n",
       "      <td>19877</td>\n",
       "      <td>78.8500</td>\n",
       "      <td>NaN</td>\n",
       "      <td>S</td>\n",
       "      <td>6</td>\n",
       "      <td>NaN</td>\n",
       "      <td>NaN</td>\n",
       "    </tr>\n",
       "    <tr>\n",
       "      <th>14</th>\n",
       "      <td>1</td>\n",
       "      <td>1</td>\n",
       "      <td>Barkworth, Mr. Algernon Henry Wilson</td>\n",
       "      <td>male</td>\n",
       "      <td>80.0000</td>\n",
       "      <td>0</td>\n",
       "      <td>0</td>\n",
       "      <td>27042</td>\n",
       "      <td>30.0000</td>\n",
       "      <td>A23</td>\n",
       "      <td>S</td>\n",
       "      <td>B</td>\n",
       "      <td>NaN</td>\n",
       "      <td>Hessle, Yorks</td>\n",
       "    </tr>\n",
       "    <tr>\n",
       "      <th>15</th>\n",
       "      <td>1</td>\n",
       "      <td>0</td>\n",
       "      <td>Baumann, Mr. John D</td>\n",
       "      <td>male</td>\n",
       "      <td>NaN</td>\n",
       "      <td>0</td>\n",
       "      <td>0</td>\n",
       "      <td>PC 17318</td>\n",
       "      <td>25.9250</td>\n",
       "      <td>NaN</td>\n",
       "      <td>S</td>\n",
       "      <td>NaN</td>\n",
       "      <td>NaN</td>\n",
       "      <td>New York, NY</td>\n",
       "    </tr>\n",
       "    <tr>\n",
       "      <th>16</th>\n",
       "      <td>1</td>\n",
       "      <td>0</td>\n",
       "      <td>Baxter, Mr. Quigg Edmond</td>\n",
       "      <td>male</td>\n",
       "      <td>24.0000</td>\n",
       "      <td>0</td>\n",
       "      <td>1</td>\n",
       "      <td>PC 17558</td>\n",
       "      <td>247.5208</td>\n",
       "      <td>B58 B60</td>\n",
       "      <td>C</td>\n",
       "      <td>NaN</td>\n",
       "      <td>NaN</td>\n",
       "      <td>Montreal, PQ</td>\n",
       "    </tr>\n",
       "    <tr>\n",
       "      <th>17</th>\n",
       "      <td>1</td>\n",
       "      <td>1</td>\n",
       "      <td>Baxter, Mrs. James (Helene DeLaudeniere Chaput)</td>\n",
       "      <td>female</td>\n",
       "      <td>50.0000</td>\n",
       "      <td>0</td>\n",
       "      <td>1</td>\n",
       "      <td>PC 17558</td>\n",
       "      <td>247.5208</td>\n",
       "      <td>B58 B60</td>\n",
       "      <td>C</td>\n",
       "      <td>6</td>\n",
       "      <td>NaN</td>\n",
       "      <td>Montreal, PQ</td>\n",
       "    </tr>\n",
       "    <tr>\n",
       "      <th>18</th>\n",
       "      <td>1</td>\n",
       "      <td>1</td>\n",
       "      <td>Bazzani, Miss. Albina</td>\n",
       "      <td>female</td>\n",
       "      <td>32.0000</td>\n",
       "      <td>0</td>\n",
       "      <td>0</td>\n",
       "      <td>11813</td>\n",
       "      <td>76.2917</td>\n",
       "      <td>D15</td>\n",
       "      <td>C</td>\n",
       "      <td>8</td>\n",
       "      <td>NaN</td>\n",
       "      <td>NaN</td>\n",
       "    </tr>\n",
       "    <tr>\n",
       "      <th>19</th>\n",
       "      <td>1</td>\n",
       "      <td>0</td>\n",
       "      <td>Beattie, Mr. Thomson</td>\n",
       "      <td>male</td>\n",
       "      <td>36.0000</td>\n",
       "      <td>0</td>\n",
       "      <td>0</td>\n",
       "      <td>13050</td>\n",
       "      <td>75.2417</td>\n",
       "      <td>C6</td>\n",
       "      <td>C</td>\n",
       "      <td>A</td>\n",
       "      <td>NaN</td>\n",
       "      <td>Winnipeg, MN</td>\n",
       "    </tr>\n",
       "  </tbody>\n",
       "</table>\n",
       "</div>"
      ],
      "text/plain": [
       "    pclass  survived                                               name  \\\n",
       "0        1         1                      Allen, Miss. Elisabeth Walton   \n",
       "1        1         1                     Allison, Master. Hudson Trevor   \n",
       "2        1         0                       Allison, Miss. Helen Loraine   \n",
       "3        1         0               Allison, Mr. Hudson Joshua Creighton   \n",
       "4        1         0    Allison, Mrs. Hudson J C (Bessie Waldo Daniels)   \n",
       "5        1         1                                Anderson, Mr. Harry   \n",
       "6        1         1                  Andrews, Miss. Kornelia Theodosia   \n",
       "7        1         0                             Andrews, Mr. Thomas Jr   \n",
       "8        1         1      Appleton, Mrs. Edward Dale (Charlotte Lamson)   \n",
       "9        1         0                            Artagaveytia, Mr. Ramon   \n",
       "10       1         0                             Astor, Col. John Jacob   \n",
       "11       1         1  Astor, Mrs. John Jacob (Madeleine Talmadge Force)   \n",
       "12       1         1                      Aubart, Mme. Leontine Pauline   \n",
       "13       1         1                       Barber, Miss. Ellen 'Nellie'   \n",
       "14       1         1               Barkworth, Mr. Algernon Henry Wilson   \n",
       "15       1         0                                Baumann, Mr. John D   \n",
       "16       1         0                           Baxter, Mr. Quigg Edmond   \n",
       "17       1         1    Baxter, Mrs. James (Helene DeLaudeniere Chaput)   \n",
       "18       1         1                              Bazzani, Miss. Albina   \n",
       "19       1         0                               Beattie, Mr. Thomson   \n",
       "\n",
       "       sex      age  sibsp  parch    ticket      fare    cabin embarked boat  \\\n",
       "0   female  29.0000      0      0     24160  211.3375       B5        S    2   \n",
       "1     male   0.9167      1      2    113781  151.5500  C22 C26        S   11   \n",
       "2   female   2.0000      1      2    113781  151.5500  C22 C26        S  NaN   \n",
       "3     male  30.0000      1      2    113781  151.5500  C22 C26        S  NaN   \n",
       "4   female  25.0000      1      2    113781  151.5500  C22 C26        S  NaN   \n",
       "5     male  48.0000      0      0     19952   26.5500      E12        S    3   \n",
       "6   female  63.0000      1      0     13502   77.9583       D7        S   10   \n",
       "7     male  39.0000      0      0    112050    0.0000      A36        S  NaN   \n",
       "8   female  53.0000      2      0     11769   51.4792     C101        S    D   \n",
       "9     male  71.0000      0      0  PC 17609   49.5042      NaN        C  NaN   \n",
       "10    male  47.0000      1      0  PC 17757  227.5250  C62 C64        C  NaN   \n",
       "11  female  18.0000      1      0  PC 17757  227.5250  C62 C64        C    4   \n",
       "12  female  24.0000      0      0  PC 17477   69.3000      B35        C    9   \n",
       "13  female  26.0000      0      0     19877   78.8500      NaN        S    6   \n",
       "14    male  80.0000      0      0     27042   30.0000      A23        S    B   \n",
       "15    male      NaN      0      0  PC 17318   25.9250      NaN        S  NaN   \n",
       "16    male  24.0000      0      1  PC 17558  247.5208  B58 B60        C  NaN   \n",
       "17  female  50.0000      0      1  PC 17558  247.5208  B58 B60        C    6   \n",
       "18  female  32.0000      0      0     11813   76.2917      D15        C    8   \n",
       "19    male  36.0000      0      0     13050   75.2417       C6        C    A   \n",
       "\n",
       "     body                        home.dest  \n",
       "0     NaN                     St Louis, MO  \n",
       "1     NaN  Montreal, PQ / Chesterville, ON  \n",
       "2     NaN  Montreal, PQ / Chesterville, ON  \n",
       "3   135.0  Montreal, PQ / Chesterville, ON  \n",
       "4     NaN  Montreal, PQ / Chesterville, ON  \n",
       "5     NaN                     New York, NY  \n",
       "6     NaN                       Hudson, NY  \n",
       "7     NaN                      Belfast, NI  \n",
       "8     NaN              Bayside, Queens, NY  \n",
       "9    22.0              Montevideo, Uruguay  \n",
       "10  124.0                     New York, NY  \n",
       "11    NaN                     New York, NY  \n",
       "12    NaN                    Paris, France  \n",
       "13    NaN                              NaN  \n",
       "14    NaN                    Hessle, Yorks  \n",
       "15    NaN                     New York, NY  \n",
       "16    NaN                     Montreal, PQ  \n",
       "17    NaN                     Montreal, PQ  \n",
       "18    NaN                              NaN  \n",
       "19    NaN                     Winnipeg, MN  "
      ]
     },
     "execution_count": 2,
     "metadata": {},
     "output_type": "execute_result"
    }
   ],
   "source": [
    "df = pd.read_csv(\"Zbiór danych Titanic.arff.txt\", header = 0, na_values = \"?\")\n",
    "df.head(20)"
   ]
  },
  {
   "cell_type": "markdown",
   "id": "6097f800-aa01-4da2-bf05-5ed09f2fd992",
   "metadata": {},
   "source": [
    "<b>Ilość wartości brakujących w danych kolumnach:</b>"
   ]
  },
  {
   "cell_type": "code",
   "execution_count": 3,
   "id": "b226fb8c-009a-4c9c-998c-ea135aa415ab",
   "metadata": {},
   "outputs": [
    {
     "data": {
      "text/plain": [
       "pclass          0\n",
       "survived        0\n",
       "name            0\n",
       "sex             0\n",
       "age           263\n",
       "sibsp           0\n",
       "parch           0\n",
       "ticket          0\n",
       "fare            1\n",
       "cabin        1014\n",
       "embarked        2\n",
       "boat          823\n",
       "body         1188\n",
       "home.dest     564\n",
       "dtype: int64"
      ]
     },
     "execution_count": 3,
     "metadata": {},
     "output_type": "execute_result"
    }
   ],
   "source": [
    "df.isnull().sum()"
   ]
  },
  {
   "cell_type": "markdown",
   "id": "f89cf757-9cdd-451f-b004-06460cbbbbe3",
   "metadata": {},
   "source": [
    "<b>Procentowy udział wartości brakujących:</b>"
   ]
  },
  {
   "cell_type": "code",
   "execution_count": 4,
   "id": "efa38320-f157-47f4-979b-9afb128108be",
   "metadata": {},
   "outputs": [
    {
     "data": {
      "text/plain": [
       "pclass        0.000000\n",
       "survived      0.000000\n",
       "name          0.000000\n",
       "sex           0.000000\n",
       "age          20.091673\n",
       "sibsp         0.000000\n",
       "parch         0.000000\n",
       "ticket        0.000000\n",
       "fare          0.076394\n",
       "cabin        77.463713\n",
       "embarked      0.152788\n",
       "boat         62.872422\n",
       "body         90.756303\n",
       "home.dest    43.086325\n",
       "dtype: float64"
      ]
     },
     "execution_count": 4,
     "metadata": {},
     "output_type": "execute_result"
    }
   ],
   "source": [
    "df.isnull().mean() * 100"
   ]
  },
  {
   "cell_type": "markdown",
   "id": "2c75d298-0f0c-4e41-848a-f10ebf8322d5",
   "metadata": {},
   "source": [
    "Wartości brakujące mają widoczny udział dla kolumn: <b>age</b>, <b>cabin</b>, <b>boat</b>, <b>body</b>, <b>home.dest</b>"
   ]
  },
  {
   "cell_type": "markdown",
   "id": "bf63225f-828f-4f66-bcea-f086c7745bc6",
   "metadata": {},
   "source": [
    "<b>Ilość cech:</b>"
   ]
  },
  {
   "cell_type": "code",
   "execution_count": 5,
   "id": "a1a886c7-4e99-41cf-8bd0-f995f2a0c6a6",
   "metadata": {},
   "outputs": [
    {
     "data": {
      "text/plain": [
       "14"
      ]
     },
     "execution_count": 5,
     "metadata": {},
     "output_type": "execute_result"
    }
   ],
   "source": [
    "len(df.columns)"
   ]
  },
  {
   "cell_type": "markdown",
   "id": "e4477cdf-4a52-4d31-8f74-b8e003cbf748",
   "metadata": {},
   "source": [
    "Zbiór zawiera 14 cech:\n",
    "- <b>pclass</b> - klasa, którą podrożował dany pasażer\n",
    "- <b>survived</b> - 0 = zginął w katastrofie; 1 = przeżył\n",
    "- <b>name</b> - dane osobowe pasażera\n",
    "- <b>sex</b> - płeć\n",
    "- <b>age</b> - wiek\n",
    "- <b>sibsp</b> - ilość rodzeństwa lub małżonków danego pasażera na pogładzie\n",
    "- <b>parch</b> - ilość rodziców i dzieci danego pasażera na pokładzie\n",
    "- <b>ticket</b> - nr biletu\n",
    "- <b>fare</b> - opłata za podróż\n",
    "- <b>cabin</b> - nr kabiny\n",
    "- <b>embarked</b> - port, w którym pasażer wsiadł (S - Southampton, C - Cherbourg, Q - Queenstown)\n",
    "- <b>boat</b> - oznaczenie łodzi ratunkowej, do której wsiadł pasażer\n",
    "- <b>body</b> - nr identyfikacyjny ciała (jeśli zginął w katastrofie i udało się odnaleźć ciało)\n",
    "- <b>home.dest</b> - miejsce zamieszkania lub cel podróży\n",
    "\n",
    "Już na pierwszy rzut oka można zauważyć sporo wartości NaN w kolumnach body i boat, co jest zrozumiałe, gdyż najczęściej brakuje ich dla pasażerów, którzy zginęli w katastrofie (nie zdążyli wsiąść na łódź ratunkową, nie udało się znaleźć ich ciał)\n",
    "\n",
    "Można również dostrzec powtarzające się wartości w kolumnach: <b>ticket, fare, czy też cabin</b>\n",
    "\n"
   ]
  },
  {
   "cell_type": "markdown",
   "id": "4510385e-69b7-40ef-92f6-4c703c9232be",
   "metadata": {},
   "source": [
    "Przed użyciem funkcji <b>isnull()</b> należało przy wczytaniu ustalić, że wartości NA w zbiorze danych są oznaczone przez znaki zapytania (normalnie za wartości NA uznaje się po prostu puste pola)\n",
    "\n",
    "<b>Dla upewnienia się, że wartości brakujące nie były oznaczone w inny sposób:</b>"
   ]
  },
  {
   "cell_type": "code",
   "execution_count": 6,
   "id": "5ef14d5a-7e17-4243-86d7-328884aed2f2",
   "metadata": {},
   "outputs": [
    {
     "data": {
      "text/plain": [
       "pclass       True\n",
       "survived     True\n",
       "name         True\n",
       "sex          True\n",
       "age          True\n",
       "sibsp        True\n",
       "parch        True\n",
       "ticket       True\n",
       "fare         True\n",
       "cabin        True\n",
       "embarked     True\n",
       "boat         True\n",
       "body         True\n",
       "home.dest    True\n",
       "dtype: bool"
      ]
     },
     "execution_count": 6,
     "metadata": {},
     "output_type": "execute_result"
    }
   ],
   "source": [
    "df.isnull().sum() + df.notnull().sum() == len(df)"
   ]
  },
  {
   "cell_type": "markdown",
   "id": "d9ddd775-4622-4d7b-96dd-3179647475a8",
   "metadata": {},
   "source": [
    "Możemy stworzyć zmienną kategoryczną, np. dla zmiennej <b>body</b>, która poinformuje nas o wartości brakującej.\n",
    "Dodatkowo możemy użyć operacji <b>groupby</b>, aby zmapować brakujące wartości danej kolumny i powiązanie z wartością <b>survived</b> (0 lub 1)"
   ]
  },
  {
   "cell_type": "code",
   "execution_count": 7,
   "id": "f80e7e5f-9aee-4b8b-89af-5a541527c568",
   "metadata": {},
   "outputs": [
    {
     "data": {
      "text/plain": [
       "survived\n",
       "0    0.850433\n",
       "1    1.000000\n",
       "Name: BodyNull, dtype: float64"
      ]
     },
     "execution_count": 7,
     "metadata": {},
     "output_type": "execute_result"
    }
   ],
   "source": [
    "df['BodyNull'] = np.where(df['body'].isnull(), 1, 0)\n",
    "df.groupby(['survived'])['BodyNull'].mean()"
   ]
  },
  {
   "cell_type": "code",
   "execution_count": 8,
   "id": "1052b420-93a8-498e-a7c6-596a8625cff1",
   "metadata": {},
   "outputs": [
    {
     "data": {
      "text/plain": [
       "survived\n",
       "0    0.850433\n",
       "1    1.000000\n",
       "Name: body, dtype: float64"
      ]
     },
     "execution_count": 8,
     "metadata": {},
     "output_type": "execute_result"
    }
   ],
   "source": [
    "#to samo w jednej linijce\n",
    "df.groupby(['survived'])['body'].apply(lambda x: np.where(x.isnull(), 1, 0).mean())"
   ]
  },
  {
   "cell_type": "code",
   "execution_count": 9,
   "id": "5ec3bf08-cd5d-4403-9727-3531026d228c",
   "metadata": {},
   "outputs": [
    {
     "data": {
      "text/html": [
       "<div>\n",
       "<style scoped>\n",
       "    .dataframe tbody tr th:only-of-type {\n",
       "        vertical-align: middle;\n",
       "    }\n",
       "\n",
       "    .dataframe tbody tr th {\n",
       "        vertical-align: top;\n",
       "    }\n",
       "\n",
       "    .dataframe thead th {\n",
       "        text-align: right;\n",
       "    }\n",
       "</style>\n",
       "<table border=\"1\" class=\"dataframe\">\n",
       "  <thead>\n",
       "    <tr style=\"text-align: right;\">\n",
       "      <th></th>\n",
       "      <th>survived</th>\n",
       "      <th>body</th>\n",
       "      <th>BodyNull</th>\n",
       "    </tr>\n",
       "  </thead>\n",
       "  <tbody>\n",
       "    <tr>\n",
       "      <th>0</th>\n",
       "      <td>1</td>\n",
       "      <td>NaN</td>\n",
       "      <td>1</td>\n",
       "    </tr>\n",
       "    <tr>\n",
       "      <th>1</th>\n",
       "      <td>1</td>\n",
       "      <td>NaN</td>\n",
       "      <td>1</td>\n",
       "    </tr>\n",
       "    <tr>\n",
       "      <th>2</th>\n",
       "      <td>0</td>\n",
       "      <td>NaN</td>\n",
       "      <td>1</td>\n",
       "    </tr>\n",
       "    <tr>\n",
       "      <th>3</th>\n",
       "      <td>0</td>\n",
       "      <td>135.0</td>\n",
       "      <td>0</td>\n",
       "    </tr>\n",
       "    <tr>\n",
       "      <th>4</th>\n",
       "      <td>0</td>\n",
       "      <td>NaN</td>\n",
       "      <td>1</td>\n",
       "    </tr>\n",
       "    <tr>\n",
       "      <th>5</th>\n",
       "      <td>1</td>\n",
       "      <td>NaN</td>\n",
       "      <td>1</td>\n",
       "    </tr>\n",
       "    <tr>\n",
       "      <th>6</th>\n",
       "      <td>1</td>\n",
       "      <td>NaN</td>\n",
       "      <td>1</td>\n",
       "    </tr>\n",
       "    <tr>\n",
       "      <th>7</th>\n",
       "      <td>0</td>\n",
       "      <td>NaN</td>\n",
       "      <td>1</td>\n",
       "    </tr>\n",
       "    <tr>\n",
       "      <th>8</th>\n",
       "      <td>1</td>\n",
       "      <td>NaN</td>\n",
       "      <td>1</td>\n",
       "    </tr>\n",
       "    <tr>\n",
       "      <th>9</th>\n",
       "      <td>0</td>\n",
       "      <td>22.0</td>\n",
       "      <td>0</td>\n",
       "    </tr>\n",
       "  </tbody>\n",
       "</table>\n",
       "</div>"
      ],
      "text/plain": [
       "   survived   body  BodyNull\n",
       "0         1    NaN         1\n",
       "1         1    NaN         1\n",
       "2         0    NaN         1\n",
       "3         0  135.0         0\n",
       "4         0    NaN         1\n",
       "5         1    NaN         1\n",
       "6         1    NaN         1\n",
       "7         0    NaN         1\n",
       "8         1    NaN         1\n",
       "9         0   22.0         0"
      ]
     },
     "execution_count": 9,
     "metadata": {},
     "output_type": "execute_result"
    }
   ],
   "source": [
    "df.head(10)[['survived', 'body','BodyNull']]"
   ]
  },
  {
   "cell_type": "markdown",
   "id": "1fb70eb6-d4a5-4a37-9a6b-f3386b340781",
   "metadata": {},
   "source": [
    "Operacja ta pozwoliła nam zobaczyć jaki jest odsetek brakującej wartości zmiennej <b>body</b> w zależności czy ktoś przeżył katastrofę.\n",
    "\n",
    "Dochodzimy do oczywistego wniosku, że dla tych, którzy przeżyli, wartości brakujące body mają 100% udziału w tej grupie (nie szukano i identyfikowano ciał ocalałych).\n",
    "\n",
    "Dla tych, którzy zginęli udział ten jednak też jest bardzo duży (85%), co oznacza, że nie odnaleziono i zidentyfikowano aż 85% ciał ofiar."
   ]
  },
  {
   "cell_type": "markdown",
   "id": "34e940b1-4e8f-4382-8e4c-348176e8b6f9",
   "metadata": {},
   "source": [
    "Możemy zrobić takie mapowanie według zmiennej survived dla wszystkich zmiennych, dla których przedtem zauważyliśmy znaczny udział wartości brakujących:"
   ]
  },
  {
   "cell_type": "code",
   "execution_count": 10,
   "id": "8bbbbb15-1ce5-4245-816d-3a707ccc51ed",
   "metadata": {},
   "outputs": [
    {
     "data": {
      "text/html": [
       "<style type=\"text/css\">\n",
       "</style>\n",
       "<table id=\"T_87fc6\">\n",
       "  <thead>\n",
       "    <tr>\n",
       "      <th class=\"blank level0\" >&nbsp;</th>\n",
       "      <th id=\"T_87fc6_level0_col0\" class=\"col_heading level0 col0\" >boat</th>\n",
       "      <th id=\"T_87fc6_level0_col1\" class=\"col_heading level0 col1\" >body</th>\n",
       "      <th id=\"T_87fc6_level0_col2\" class=\"col_heading level0 col2\" >home.dest</th>\n",
       "      <th id=\"T_87fc6_level0_col3\" class=\"col_heading level0 col3\" >age</th>\n",
       "      <th id=\"T_87fc6_level0_col4\" class=\"col_heading level0 col4\" >cabin</th>\n",
       "    </tr>\n",
       "    <tr>\n",
       "      <th class=\"index_name level0\" >survived</th>\n",
       "      <th class=\"blank col0\" >&nbsp;</th>\n",
       "      <th class=\"blank col1\" >&nbsp;</th>\n",
       "      <th class=\"blank col2\" >&nbsp;</th>\n",
       "      <th class=\"blank col3\" >&nbsp;</th>\n",
       "      <th class=\"blank col4\" >&nbsp;</th>\n",
       "    </tr>\n",
       "  </thead>\n",
       "  <tbody>\n",
       "    <tr>\n",
       "      <th id=\"T_87fc6_level0_row0\" class=\"row_heading level0 row0\" >0</th>\n",
       "      <td id=\"T_87fc6_row0_col0\" class=\"data row0 col0\" >0.99</td>\n",
       "      <td id=\"T_87fc6_row0_col1\" class=\"data row0 col1\" >0.85</td>\n",
       "      <td id=\"T_87fc6_row0_col2\" class=\"data row0 col2\" >0.51</td>\n",
       "      <td id=\"T_87fc6_row0_col3\" class=\"data row0 col3\" >0.23</td>\n",
       "      <td id=\"T_87fc6_row0_col4\" class=\"data row0 col4\" >0.87</td>\n",
       "    </tr>\n",
       "    <tr>\n",
       "      <th id=\"T_87fc6_level0_row1\" class=\"row_heading level0 row1\" >1</th>\n",
       "      <td id=\"T_87fc6_row1_col0\" class=\"data row1 col0\" >0.05</td>\n",
       "      <td id=\"T_87fc6_row1_col1\" class=\"data row1 col1\" >1.00</td>\n",
       "      <td id=\"T_87fc6_row1_col2\" class=\"data row1 col2\" >0.31</td>\n",
       "      <td id=\"T_87fc6_row1_col3\" class=\"data row1 col3\" >0.15</td>\n",
       "      <td id=\"T_87fc6_row1_col4\" class=\"data row1 col4\" >0.61</td>\n",
       "    </tr>\n",
       "  </tbody>\n",
       "</table>\n"
      ],
      "text/plain": [
       "<pandas.io.formats.style.Styler at 0x152274d5940>"
      ]
     },
     "execution_count": 10,
     "metadata": {},
     "output_type": "execute_result"
    }
   ],
   "source": [
    "#dla czytelności pokazuję z dokładnością do 2 miejsc po przecinku\n",
    "df.groupby([\"survived\"])[['boat', 'body', 'home.dest', 'age', 'cabin']].apply(lambda x: x.isnull().mean()).style.format(precision = 2)"
   ]
  },
  {
   "cell_type": "markdown",
   "id": "40b1a937-cb19-4b4a-85dd-28d4428d6be9",
   "metadata": {},
   "source": [
    "Albo też pogrupować według innej zmiennej, np. <b>pclass</b>"
   ]
  },
  {
   "cell_type": "code",
   "execution_count": 11,
   "id": "21b305eb-551c-4e7f-a3fb-83d7a33fefad",
   "metadata": {},
   "outputs": [
    {
     "data": {
      "text/html": [
       "<style type=\"text/css\">\n",
       "</style>\n",
       "<table id=\"T_df119\">\n",
       "  <thead>\n",
       "    <tr>\n",
       "      <th class=\"blank level0\" >&nbsp;</th>\n",
       "      <th id=\"T_df119_level0_col0\" class=\"col_heading level0 col0\" >boat</th>\n",
       "      <th id=\"T_df119_level0_col1\" class=\"col_heading level0 col1\" >body</th>\n",
       "      <th id=\"T_df119_level0_col2\" class=\"col_heading level0 col2\" >home.dest</th>\n",
       "      <th id=\"T_df119_level0_col3\" class=\"col_heading level0 col3\" >age</th>\n",
       "      <th id=\"T_df119_level0_col4\" class=\"col_heading level0 col4\" >cabin</th>\n",
       "    </tr>\n",
       "    <tr>\n",
       "      <th class=\"index_name level0\" >pclass</th>\n",
       "      <th class=\"blank col0\" >&nbsp;</th>\n",
       "      <th class=\"blank col1\" >&nbsp;</th>\n",
       "      <th class=\"blank col2\" >&nbsp;</th>\n",
       "      <th class=\"blank col3\" >&nbsp;</th>\n",
       "      <th class=\"blank col4\" >&nbsp;</th>\n",
       "    </tr>\n",
       "  </thead>\n",
       "  <tbody>\n",
       "    <tr>\n",
       "      <th id=\"T_df119_level0_row0\" class=\"row_heading level0 row0\" >1</th>\n",
       "      <td id=\"T_df119_row0_col0\" class=\"data row0 col0\" >0.38</td>\n",
       "      <td id=\"T_df119_row0_col1\" class=\"data row0 col1\" >0.89</td>\n",
       "      <td id=\"T_df119_row0_col2\" class=\"data row0 col2\" >0.11</td>\n",
       "      <td id=\"T_df119_row0_col3\" class=\"data row0 col3\" >0.12</td>\n",
       "      <td id=\"T_df119_row0_col4\" class=\"data row0 col4\" >0.21</td>\n",
       "    </tr>\n",
       "    <tr>\n",
       "      <th id=\"T_df119_level0_row1\" class=\"row_heading level0 row1\" >2</th>\n",
       "      <td id=\"T_df119_row1_col0\" class=\"data row1 col0\" >0.60</td>\n",
       "      <td id=\"T_df119_row1_col1\" class=\"data row1 col1\" >0.89</td>\n",
       "      <td id=\"T_df119_row1_col2\" class=\"data row1 col2\" >0.06</td>\n",
       "      <td id=\"T_df119_row1_col3\" class=\"data row1 col3\" >0.06</td>\n",
       "      <td id=\"T_df119_row1_col4\" class=\"data row1 col4\" >0.92</td>\n",
       "    </tr>\n",
       "    <tr>\n",
       "      <th id=\"T_df119_level0_row2\" class=\"row_heading level0 row2\" >3</th>\n",
       "      <td id=\"T_df119_row2_col0\" class=\"data row2 col0\" >0.76</td>\n",
       "      <td id=\"T_df119_row2_col1\" class=\"data row2 col1\" >0.92</td>\n",
       "      <td id=\"T_df119_row2_col2\" class=\"data row2 col2\" >0.72</td>\n",
       "      <td id=\"T_df119_row2_col3\" class=\"data row2 col3\" >0.29</td>\n",
       "      <td id=\"T_df119_row2_col4\" class=\"data row2 col4\" >0.98</td>\n",
       "    </tr>\n",
       "  </tbody>\n",
       "</table>\n"
      ],
      "text/plain": [
       "<pandas.io.formats.style.Styler at 0x15226b12c10>"
      ]
     },
     "execution_count": 11,
     "metadata": {},
     "output_type": "execute_result"
    }
   ],
   "source": [
    "df.groupby(\"pclass\")[['boat', 'body', 'home.dest', 'age', 'cabin']].apply(lambda x: x.isnull().mean()).style.format(precision = 2)"
   ]
  },
  {
   "cell_type": "markdown",
   "id": "d9fae03b-733d-432d-a1c7-a244e1fe5031",
   "metadata": {},
   "source": [
    "Można pójść jeszcze krok dalej i pogrupować według obu tych zmiennych:"
   ]
  },
  {
   "cell_type": "code",
   "execution_count": 12,
   "id": "d7445270-3145-492e-89af-33e149d06f7f",
   "metadata": {},
   "outputs": [
    {
     "data": {
      "text/html": [
       "<style type=\"text/css\">\n",
       "</style>\n",
       "<table id=\"T_ceb70\">\n",
       "  <thead>\n",
       "    <tr>\n",
       "      <th class=\"blank\" >&nbsp;</th>\n",
       "      <th class=\"blank level0\" >&nbsp;</th>\n",
       "      <th id=\"T_ceb70_level0_col0\" class=\"col_heading level0 col0\" >boat</th>\n",
       "      <th id=\"T_ceb70_level0_col1\" class=\"col_heading level0 col1\" >body</th>\n",
       "      <th id=\"T_ceb70_level0_col2\" class=\"col_heading level0 col2\" >home.dest</th>\n",
       "      <th id=\"T_ceb70_level0_col3\" class=\"col_heading level0 col3\" >age</th>\n",
       "      <th id=\"T_ceb70_level0_col4\" class=\"col_heading level0 col4\" >cabin</th>\n",
       "    </tr>\n",
       "    <tr>\n",
       "      <th class=\"index_name level0\" >survived</th>\n",
       "      <th class=\"index_name level1\" >pclass</th>\n",
       "      <th class=\"blank col0\" >&nbsp;</th>\n",
       "      <th class=\"blank col1\" >&nbsp;</th>\n",
       "      <th class=\"blank col2\" >&nbsp;</th>\n",
       "      <th class=\"blank col3\" >&nbsp;</th>\n",
       "      <th class=\"blank col4\" >&nbsp;</th>\n",
       "    </tr>\n",
       "  </thead>\n",
       "  <tbody>\n",
       "    <tr>\n",
       "      <th id=\"T_ceb70_level0_row0\" class=\"row_heading level0 row0\" rowspan=\"3\">0</th>\n",
       "      <th id=\"T_ceb70_level1_row0\" class=\"row_heading level1 row0\" >1</th>\n",
       "      <td id=\"T_ceb70_row0_col0\" class=\"data row0 col0\" >0.98</td>\n",
       "      <td id=\"T_ceb70_row0_col1\" class=\"data row0 col1\" >0.72</td>\n",
       "      <td id=\"T_ceb70_row0_col2\" class=\"data row0 col2\" >0.07</td>\n",
       "      <td id=\"T_ceb70_row0_col3\" class=\"data row0 col3\" >0.16</td>\n",
       "      <td id=\"T_ceb70_row0_col4\" class=\"data row0 col4\" >0.28</td>\n",
       "    </tr>\n",
       "    <tr>\n",
       "      <th id=\"T_ceb70_level1_row1\" class=\"row_heading level1 row1\" >2</th>\n",
       "      <td id=\"T_ceb70_row1_col0\" class=\"data row1 col0\" >0.99</td>\n",
       "      <td id=\"T_ceb70_row1_col1\" class=\"data row1 col1\" >0.80</td>\n",
       "      <td id=\"T_ceb70_row1_col2\" class=\"data row1 col2\" >0.09</td>\n",
       "      <td id=\"T_ceb70_row1_col3\" class=\"data row1 col3\" >0.08</td>\n",
       "      <td id=\"T_ceb70_row1_col4\" class=\"data row1 col4\" >0.96</td>\n",
       "    </tr>\n",
       "    <tr>\n",
       "      <th id=\"T_ceb70_level1_row2\" class=\"row_heading level1 row2\" >3</th>\n",
       "      <td id=\"T_ceb70_row2_col0\" class=\"data row2 col0\" >0.99</td>\n",
       "      <td id=\"T_ceb70_row2_col1\" class=\"data row2 col1\" >0.90</td>\n",
       "      <td id=\"T_ceb70_row2_col2\" class=\"data row2 col2\" >0.73</td>\n",
       "      <td id=\"T_ceb70_row2_col3\" class=\"data row2 col3\" >0.30</td>\n",
       "      <td id=\"T_ceb70_row2_col4\" class=\"data row2 col4\" >0.99</td>\n",
       "    </tr>\n",
       "    <tr>\n",
       "      <th id=\"T_ceb70_level0_row3\" class=\"row_heading level0 row3\" rowspan=\"3\">1</th>\n",
       "      <th id=\"T_ceb70_level1_row3\" class=\"row_heading level1 row3\" >1</th>\n",
       "      <td id=\"T_ceb70_row3_col0\" class=\"data row3 col0\" >0.01</td>\n",
       "      <td id=\"T_ceb70_row3_col1\" class=\"data row3 col1\" >1.00</td>\n",
       "      <td id=\"T_ceb70_row3_col2\" class=\"data row3 col2\" >0.12</td>\n",
       "      <td id=\"T_ceb70_row3_col3\" class=\"data row3 col3\" >0.10</td>\n",
       "      <td id=\"T_ceb70_row3_col4\" class=\"data row3 col4\" >0.17</td>\n",
       "    </tr>\n",
       "    <tr>\n",
       "      <th id=\"T_ceb70_level1_row4\" class=\"row_heading level1 row4\" >2</th>\n",
       "      <td id=\"T_ceb70_row4_col0\" class=\"data row4 col0\" >0.07</td>\n",
       "      <td id=\"T_ceb70_row4_col1\" class=\"data row4 col1\" >1.00</td>\n",
       "      <td id=\"T_ceb70_row4_col2\" class=\"data row4 col2\" >0.02</td>\n",
       "      <td id=\"T_ceb70_row4_col3\" class=\"data row4 col3\" >0.03</td>\n",
       "      <td id=\"T_ceb70_row4_col4\" class=\"data row4 col4\" >0.86</td>\n",
       "    </tr>\n",
       "    <tr>\n",
       "      <th id=\"T_ceb70_level1_row5\" class=\"row_heading level1 row5\" >3</th>\n",
       "      <td id=\"T_ceb70_row5_col0\" class=\"data row5 col0\" >0.08</td>\n",
       "      <td id=\"T_ceb70_row5_col1\" class=\"data row5 col1\" >1.00</td>\n",
       "      <td id=\"T_ceb70_row5_col2\" class=\"data row5 col2\" >0.70</td>\n",
       "      <td id=\"T_ceb70_row5_col3\" class=\"data row5 col3\" >0.28</td>\n",
       "      <td id=\"T_ceb70_row5_col4\" class=\"data row5 col4\" >0.95</td>\n",
       "    </tr>\n",
       "  </tbody>\n",
       "</table>\n"
      ],
      "text/plain": [
       "<pandas.io.formats.style.Styler at 0x15227500b90>"
      ]
     },
     "execution_count": 12,
     "metadata": {},
     "output_type": "execute_result"
    }
   ],
   "source": [
    "df.groupby([\"survived\", \"pclass\"])[['boat', 'body', 'home.dest', 'age', 'cabin']].apply(lambda x: x.isnull().mean()).style.format(precision = 2)"
   ]
  },
  {
   "cell_type": "markdown",
   "id": "27d3b9b1-6b71-4b25-affa-88b21a8095a3",
   "metadata": {},
   "source": [
    "<b>Na podstawie analizy powyższych tabel można dojść do wniosków:</b>\n",
    "- dla zmiennych <b>home.dest, age i cabin</b> rozkład udziału wartości brakujących według klasy jest niezależny od tego czy pasażerowie przeżyli katastrofę\n",
    "- wartości brakujące dla <b>home.dest</b> są wyraźnie zależne od klasy (najwięcej dla 3). Nieznacznie wyższy udział wartości NA dla zmiennej home.dest przy grupowaniu według survived dla zmarłych może być związany z tym, że większość ofiar katastrofy to pasażerowie 3 klasy (sprawdzenie poniżej)\n",
    "- wartości NA dla zmiennej <b>boat</b> są jednoznacznie zależne od tego czy ktoś przeżył katastrofę (NA związane ze śmiercią)\n",
    "- wartości NA dla <b>age</b> nie są wyraźnie zależne od żadnej ze zmiennych, według których grupowaliśmy\n",
    "- wartości NA dla zmiennej <b>body</b> nie występują jeśli ktoś przeżył katastrofę (oczywiste - nie szukano i identyfikowano ciał ocalałych). Dla zmarłych jednak także jest on niezależny od klasy (bardzo wysokie udziały procentowe wartości brakujących w każdej)"
   ]
  },
  {
   "cell_type": "code",
   "execution_count": 13,
   "id": "a527ab2e-0533-41bf-8c44-22879ce88de7",
   "metadata": {},
   "outputs": [
    {
     "data": {
      "text/plain": [
       "pclass\n",
       "3    528\n",
       "2    158\n",
       "1    123\n",
       "Name: count, dtype: int64"
      ]
     },
     "execution_count": 13,
     "metadata": {},
     "output_type": "execute_result"
    }
   ],
   "source": [
    "# ilość ofiar według klasy\n",
    "df[df['survived'] == 0]['pclass'].value_counts()"
   ]
  },
  {
   "cell_type": "markdown",
   "id": "193c2115-8831-4e44-be9a-0b5fcf6ac58f",
   "metadata": {},
   "source": [
    "<b>Podsumowanie:</b>\n",
    "- możemy usunąć wartości brakujące z kolumn <b>fare i embarked</b> - ze względu na małą ilość zakładamy, że są to wartości typu <b>MCAR</b>\n",
    "- wartości brakujące typu <b>MAR</b> - <b>boat, body</b> (zależne, przynajmniej częściowo, od survived), <b>cabin, home.dest</b> (zależne od klasy).\n",
    "Do tej grupy zaliczymy też <b>age</b>, ponieważ brakujące wartości w tej kolumnie są związane z brakami np. w cabin (pokazane poniżej)\n",
    "Kolumnę boat w zasadzie w całości można usunąć ze zbioru (brak nowej informacji - bardzo silne powiązanie z survived).\n",
    "Innych danych brakujących ze względu na dużą ilość nie można po prostu usunąć. Rozwiązaniem jest np. wypełnienie braków (imputacja).\n"
   ]
  },
  {
   "cell_type": "code",
   "execution_count": 14,
   "id": "3f1254d7-0598-401a-bca8-1eceb56cd15c",
   "metadata": {},
   "outputs": [
    {
     "data": {
      "text/plain": [
       "pclass       0.000000\n",
       "survived     0.000000\n",
       "name         0.000000\n",
       "sex          0.000000\n",
       "age          1.000000\n",
       "sibsp        0.000000\n",
       "parch        0.000000\n",
       "ticket       0.000000\n",
       "fare         0.000000\n",
       "cabin        0.912548\n",
       "embarked     0.000000\n",
       "boat         0.737643\n",
       "body         0.996198\n",
       "home.dest    0.771863\n",
       "BodyNull     0.000000\n",
       "dtype: float64"
      ]
     },
     "execution_count": 14,
     "metadata": {},
     "output_type": "execute_result"
    }
   ],
   "source": [
    "# odsetek brakujących wartości dla innych zmiennych, gdy wartości brakuje dla age\n",
    "df[df['age'].isnull()].isnull().mean()"
   ]
  },
  {
   "cell_type": "code",
   "execution_count": 15,
   "id": "a0d64f4f-9ef9-4c7d-9a1d-0a5e861c0e96",
   "metadata": {},
   "outputs": [
    {
     "data": {
      "text/plain": [
       "pclass       1.000000\n",
       "survived     1.000000\n",
       "name         1.000000\n",
       "sex          1.000000\n",
       "age          0.000000\n",
       "sibsp        1.000000\n",
       "parch        1.000000\n",
       "ticket       1.000000\n",
       "fare         1.000000\n",
       "cabin        0.087452\n",
       "embarked     1.000000\n",
       "boat         0.262357\n",
       "body         0.003802\n",
       "home.dest    0.228137\n",
       "BodyNull     1.000000\n",
       "dtype: float64"
      ]
     },
     "execution_count": 15,
     "metadata": {},
     "output_type": "execute_result"
    }
   ],
   "source": [
    "# odsetek wartości not-null dla innych zmiennych, gdy wartości brakuje dla age\n",
    "df[df['age'].isnull()].notnull().mean()"
   ]
  },
  {
   "cell_type": "code",
   "execution_count": null,
   "id": "c0961a2d-1936-4d8b-bff4-010a618c364c",
   "metadata": {},
   "outputs": [],
   "source": []
  }
 ],
 "metadata": {
  "kernelspec": {
   "display_name": "Python (DataScience)",
   "language": "python",
   "name": "datascience"
  },
  "language_info": {
   "codemirror_mode": {
    "name": "ipython",
    "version": 3
   },
   "file_extension": ".py",
   "mimetype": "text/x-python",
   "name": "python",
   "nbconvert_exporter": "python",
   "pygments_lexer": "ipython3",
   "version": "3.13.2"
  }
 },
 "nbformat": 4,
 "nbformat_minor": 5
}
